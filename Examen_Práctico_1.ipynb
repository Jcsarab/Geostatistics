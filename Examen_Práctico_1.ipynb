{
  "nbformat": 4,
  "nbformat_minor": 0,
  "metadata": {
    "colab": {
      "provenance": [],
      "authorship_tag": "ABX9TyOwy55XClN+4fmIqgS2z9Rz",
      "include_colab_link": true
    },
    "kernelspec": {
      "name": "python3",
      "display_name": "Python 3"
    },
    "language_info": {
      "name": "python"
    }
  },
  "cells": [
    {
      "cell_type": "markdown",
      "metadata": {
        "id": "view-in-github",
        "colab_type": "text"
      },
      "source": [
        "<a href=\"https://colab.research.google.com/github/Jcsarab/Geostatistics/blob/master/Examen_Pr%C3%A1ctico_1.ipynb\" target=\"_parent\"><img src=\"https://colab.research.google.com/assets/colab-badge.svg\" alt=\"Open In Colab\"/></a>"
      ]
    },
    {
      "cell_type": "markdown",
      "source": [
        "1. Crea una función llamada total_mineral_semanal(mineral) que reciba el nombre de un\n",
        "mineral como argumento (\"cobre\", \"oro\", \"plata\") y retorne la cantidad total procesada de\n",
        "ese mineral en la semana."
      ],
      "metadata": {
        "id": "QuH7Q0PQ8-jq"
      }
    },
    {
      "cell_type": "code",
      "execution_count": 130,
      "metadata": {
        "colab": {
          "base_uri": "https://localhost:8080/"
        },
        "id": "FI0fkRV-7TIK",
        "outputId": "da05063c-ae81-4263-fe67-56476d8874a5"
      },
      "outputs": [
        {
          "output_type": "stream",
          "name": "stdout",
          "text": [
            "Total cobre: 2875 kg\n",
            "Total oro: 1655 kg\n",
            "Total plata: 1570 kg\n",
            "Total platino: Mineral no coincide\n"
          ]
        }
      ],
      "source": [
        "def total_mineral_semanal(mineral):\n",
        "\n",
        "\n",
        "\n",
        "     #Datos ejemplo para mineral procesado en la semana\n",
        "\n",
        "    datos_semanales = {\n",
        "        \"cobre\" : [430,425,510,390,440,400,280],\n",
        "        \"oro\" : [111,232,322,140,210,310,330],\n",
        "        \"plata\" : [240,200,190,340,200,220,180]\n",
        "\n",
        "    }\n",
        "\n",
        "\n",
        "      #Verificación de la existencia\n",
        "\n",
        "    if mineral in datos_semanales:\n",
        "\n",
        "      total = sum(datos_semanales[mineral]) #cálculo de la cantidad total\n",
        "      return total\n",
        "    else:\n",
        "      return \"Mineral no coincide\"\n",
        "\n",
        "print(\"Total cobre:\", total_mineral_semanal(\"cobre\"), \"kg\")\n",
        "print(\"Total oro:\", total_mineral_semanal(\"oro\"), \"kg\")\n",
        "print(\"Total plata:\", total_mineral_semanal(\"plata\"), \"kg\")\n",
        "print(\"Total platino:\", total_mineral_semanal(\"Platino\"))\n"
      ]
    },
    {
      "cell_type": "markdown",
      "source": [
        "2. Crea una función llamada dia_max_procesado(mineral) que reciba un mineral como\n",
        "argumento y retorne el día de la semana en el que más cantidad de ese mineral fue\n",
        "procesada."
      ],
      "metadata": {
        "id": "UBrz6R4z9GxB"
      }
    },
    {
      "cell_type": "code",
      "source": [
        " def dia_max_procesado(mineral):\n",
        "    # Datos ejemplos del ejercicio anterior\n",
        "    datos_semanales = {\n",
        "        \"cobre\" : [430,425,510,390,440,400,280],\n",
        "        \"oro\" : [111,232,322,140,210,310,330],\n",
        "        \"plata\" : [240,200,190,340,200,220,180]\n",
        "\n",
        "    }\n",
        "\n",
        "    # Días de la semana\n",
        "    dias_semana = [\"lunes\", \"martes\", \"miércoles\", \"jueves\", \"viernes\", \"sábado\", \"domingo\"]\n",
        "\n",
        "    # Verificar si el mineral está en los datos\n",
        "    if mineral in datos_semanales:\n",
        "        # Encontrar el índice del día con la mayor cantidad procesada\n",
        "        max_dia = datos_semanales[mineral].index(max(datos_semanales[mineral]))\n",
        "\n",
        "        return dias_semana[max_dia]\n",
        "    else:\n",
        "        return \"Mineral no coincide\"\n",
        "\n",
        "# Ejemplo de uso\n",
        "mineral = \"plata\"\n",
        "print(f\"El día con mayor procesamiento de {mineral} es: {dia_max_procesado(mineral)}\")\n"
      ],
      "metadata": {
        "colab": {
          "base_uri": "https://localhost:8080/"
        },
        "id": "-BHZmNLraIqe",
        "outputId": "23e1d476-92d9-4f5c-bf28-6f695d1cb5ed"
      },
      "execution_count": 129,
      "outputs": [
        {
          "output_type": "stream",
          "name": "stdout",
          "text": [
            "El día con mayor procesamiento de plata es: jueves\n"
          ]
        }
      ]
    },
    {
      "cell_type": "markdown",
      "source": [
        "3. Utiliza bucles for para recorrer los diccionarios y resolver los problemas."
      ],
      "metadata": {
        "id": "0XxRVhKc9M2_"
      }
    },
    {
      "cell_type": "code",
      "source": [
        "def total_mineral_semanal(mineral):\n",
        "\n",
        "\n",
        "\n",
        "     #Datos ejemplo para mineral procesado en la semana\n",
        "\n",
        "    datos_semanales = {\n",
        "        \"cobre\" : [430,425,510,390,440,400,280],\n",
        "        \"oro\" : [111,232,322,140,210,310,330],\n",
        "        \"plata\" : [240,200,190,340,200,220,180]\n",
        "\n",
        "    }\n",
        "\n",
        "\n",
        "      #Verificación de la existencia\n",
        "\n",
        "    if mineral in datos_semanales:\n",
        "      total = 0\n",
        "      for i in datos_semanales[mineral]:\n",
        "        total += i\n",
        "      return total\n",
        "    else:\n",
        "      return \"Mineral no coincide\"\n",
        "\n",
        "mineral = \"platino\"\n",
        "print(f\"Total procesado de {mineral} en la semana: {total_mineral_semanal(mineral)} toneladas\")"
      ],
      "metadata": {
        "colab": {
          "base_uri": "https://localhost:8080/"
        },
        "id": "Mxp254ocwjcI",
        "outputId": "a26f7184-6357-4834-b76c-b3556578bb1e"
      },
      "execution_count": 136,
      "outputs": [
        {
          "output_type": "stream",
          "name": "stdout",
          "text": [
            "Total procesado de platino en la semana: Mineral no coincide toneladas\n"
          ]
        }
      ]
    },
    {
      "cell_type": "code",
      "source": [
        " def dia_max_procesado(mineral):\n",
        "    # Datos ejemplos del ejercicio anterior\n",
        "    datos_semanales = {\n",
        "        \"cobre\" : [430,425,510,390,440,400,280],\n",
        "        \"oro\" : [111,232,322,140,210,310,330],\n",
        "        \"plata\" : [240,200,190,340,200,220,180]\n",
        "\n",
        "    }\n",
        "\n",
        "    # Días de la semana\n",
        "    dias_semana = [\"lunes\", \"martes\", \"miércoles\", \"jueves\", \"viernes\", \"sábado\", \"domingo\"]\n",
        "\n",
        "    # Verificar existencia\n",
        "    if mineral in datos_semanales:\n",
        "      dia_max = 0\n",
        "      for i in range(1, len(datos_semanales[mineral])):\n",
        "            if datos_semanales[mineral][i] > datos_semanales[mineral][dia_max]:\n",
        "                dia_max = i\n",
        "      return dias_semana[dia_max]\n",
        "    else:\n",
        "        return \"Mineral no coincide\"\n",
        "\n",
        "# Ejemplo de uso\n",
        "mineral = \"cobre\"\n",
        "print(f\"El día con mayor procesamiento de {mineral} es: {dia_max_procesado(mineral)}\")"
      ],
      "metadata": {
        "colab": {
          "base_uri": "https://localhost:8080/"
        },
        "id": "b0LDYHRX2ju9",
        "outputId": "63aff394-072f-4908-cf81-a3d1071188c9"
      },
      "execution_count": 146,
      "outputs": [
        {
          "output_type": "stream",
          "name": "stdout",
          "text": [
            "El día con mayor procesamiento de cobre es: miércoles\n"
          ]
        }
      ]
    },
    {
      "cell_type": "code",
      "source": [],
      "metadata": {
        "id": "Mo64TfS77s8D"
      },
      "execution_count": null,
      "outputs": []
    }
  ]
}